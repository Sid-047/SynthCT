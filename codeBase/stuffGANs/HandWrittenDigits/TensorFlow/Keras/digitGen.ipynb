{
 "cells": [
  {
   "cell_type": "code",
   "execution_count": 1,
   "metadata": {},
   "outputs": [],
   "source": [
    "import glob\n",
    "import time\n",
    "import numpy as np\n",
    "from PIL import Image\n",
    "import matplotlib.pyplot as plt\n",
    "from matplotlib.animation import FuncAnimation"
   ]
  },
  {
   "cell_type": "code",
   "execution_count": 3,
   "metadata": {},
   "outputs": [],
   "source": [
    "from tensorflow.keras.layers import Dense\n",
    "from tensorflow.keras.layers import Conv2D\n",
    "from tensorflow.keras.layers import Dropout\n",
    "from tensorflow.keras.datasets import mnist\n",
    "from tensorflow.keras.layers import Flatten\n",
    "from tensorflow.keras.layers import Reshape\n",
    "from tensorflow.keras.optimizers import Adam\n",
    "from tensorflow.keras.layers import LeakyReLU\n",
    "from tensorflow.keras.utils import plot_model\n",
    "from tensorflow.keras.models import Sequential\n",
    "from tensorflow.keras.utils import to_categorical\n",
    "from tensorflow.keras.layers import Conv2DTranspose\n",
    "from tensorflow.keras.layers import BatchNormalization"
   ]
  },
  {
   "cell_type": "code",
   "execution_count": 4,
   "metadata": {},
   "outputs": [],
   "source": [
    "np.random.seed(42)"
   ]
  },
  {
   "cell_type": "code",
   "execution_count": 5,
   "metadata": {},
   "outputs": [
    {
     "name": "stdout",
     "output_type": "stream",
     "text": [
      "Downloading data from https://storage.googleapis.com/tensorflow/tf-keras-datasets/mnist.npz\n",
      "11490434/11490434 [==============================] - 22s 2us/step\n",
      "Train Data Shape:  (60000, 28, 28) (60000,)\n",
      "Test Data Shape:  (10000, 28, 28) (10000,)\n",
      "\n",
      "Classes:  10\n",
      "[0 1 2 3 4 5 6 7 8 9]\n"
     ]
    },
    {
     "data": {
      "text/plain": [
       "Text(0.5, 1.0, 'Ground Truth:1')"
      ]
     },
     "execution_count": 5,
     "metadata": {},
     "output_type": "execute_result"
    },
    {
     "data": {
      "image/png": "[encoded data removed]",
      "text/plain": [
       "<Figure size 1000x500 with 2 Axes>"
      ]
     },
     "metadata": {},
     "output_type": "display_data"
    }
   ],
   "source": [
    "(train_images, train_labels), (test_images, test_labels) = mnist.load_data()\n",
    "\n",
    "print(\"Train Data Shape: \", train_images.shape, train_labels.shape)\n",
    "print(\"Test Data Shape: \", test_images.shape, test_labels.shape)\n",
    "\n",
    "classes=np.unique(train_labels)\n",
    "print(\"\\nClasses: \", len(classes))\n",
    "print(classes)\n",
    "\n",
    "plt.figure(figsize=[10,5])\n",
    "\n",
    "plt.subplot(121)\n",
    "plt.imshow(train_images[47,:,:], cmap='gray')\n",
    "plt.title(\"Ground Truth:\"+str(train_labels[47]))\n",
    "\n",
    "plt.subplot(122)\n",
    "plt.imshow(train_images[77,:,:], cmap='gray')\n",
    "plt.title(\"Ground Truth:\"+str(train_labels[77]))\n"
   ]
  },
  {
   "cell_type": "code",
   "execution_count": null,
   "metadata": {},
   "outputs": [],
   "source": [
    "dim_data = np.prod(train_images.shape[1:])\n",
    "train_labels_one_hot = to_categorical(train_labels)\n",
    "test_labels_one_hot = to_categorical(test_labels)\n",
    "\n",
    "train_data = train_images.reshape(train_images.shape[0], dim_data)\n",
    "test_data = test_images.reshape(test_images.shape[0], dim_data)\n",
    "\n",
    "train_data = train_data.astype('float32')\n",
    "test_data  = test_data.astype('float32')\n",
    "\n",
    "train_data /= 255\n",
    "test_data /= 255\n",
    "\n",
    "print(len(test_data[[1]]))"
   ]
  }
 ],
 "metadata": {
  "kernelspec": {
   "display_name": "Python 3",
   "language": "python",
   "name": "python3"
  },
  "language_info": {
   "codemirror_mode": {
    "name": "ipython",
    "version": 3
   },
   "file_extension": ".py",
   "mimetype": "text/x-python",
   "name": "python",
   "nbconvert_exporter": "python",
   "pygments_lexer": "ipython3",
   "version": "3.9.6"
  }
 },
 "nbformat": 4,
 "nbformat_minor": 2
}
